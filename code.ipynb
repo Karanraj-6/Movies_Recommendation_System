{
 "cells": [
  {
   "cell_type": "code",
   "execution_count": 54,
   "metadata": {},
   "outputs": [],
   "source": [
    "import pandas as pd"
   ]
  },
  {
   "cell_type": "code",
   "execution_count": 55,
   "metadata": {},
   "outputs": [],
   "source": [
    "\n",
    "df_standard=pd.read_csv('tmdb_all_data.csv')"
   ]
  },
  {
   "cell_type": "code",
   "execution_count": 56,
   "metadata": {},
   "outputs": [
    {
     "name": "stdout",
     "output_type": "stream",
     "text": [
      "<class 'pandas.core.frame.DataFrame'>\n",
      "RangeIndex: 656075 entries, 0 to 656074\n",
      "Data columns (total 26 columns):\n",
      " #   Column                 Non-Null Count   Dtype  \n",
      "---  ------                 --------------   -----  \n",
      " 0   Unnamed: 0             656075 non-null  object \n",
      " 1   adult                  651220 non-null  object \n",
      " 2   backdrop_path          162732 non-null  object \n",
      " 3   belongs_to_collection  16765 non-null   object \n",
      " 4   budget                 651220 non-null  object \n",
      " 5   genres                 650988 non-null  object \n",
      " 6   homepage               72068 non-null   object \n",
      " 7   id                     651092 non-null  float64\n",
      " 8   imdb_id                430962 non-null  object \n",
      " 9   original_language      651220 non-null  object \n",
      " 10  original_title         650354 non-null  object \n",
      " 11  overview               542708 non-null  object \n",
      " 12  popularity             650234 non-null  object \n",
      " 13  poster_path            431989 non-null  object \n",
      " 14  production_companies   650234 non-null  object \n",
      " 15  production_countries   649248 non-null  object \n",
      " 16  release_date           592239 non-null  object \n",
      " 17  revenue                649248 non-null  float64\n",
      " 18  runtime                589607 non-null  float64\n",
      " 19  spoken_languages       649248 non-null  object \n",
      " 20  status                 649248 non-null  object \n",
      " 21  tagline                92391 non-null   object \n",
      " 22  title                  649244 non-null  object \n",
      " 23  video                  649248 non-null  object \n",
      " 24  vote_average           649248 non-null  float64\n",
      " 25  vote_count             649248 non-null  float64\n",
      "dtypes: float64(5), object(21)\n",
      "memory usage: 130.1+ MB\n"
     ]
    }
   ],
   "source": [
    "df_standard.info()"
   ]
  },
  {
   "cell_type": "code",
   "execution_count": 57,
   "metadata": {},
   "outputs": [
    {
     "data": {
      "text/plain": [
       "(656075, 26)"
      ]
     },
     "execution_count": 57,
     "metadata": {},
     "output_type": "execute_result"
    }
   ],
   "source": [
    "df_standard.shape"
   ]
  },
  {
   "cell_type": "code",
   "execution_count": 58,
   "metadata": {},
   "outputs": [],
   "source": [
    "# droping columns \n",
    "\n",
    "# adult,backdrop_path,belongs_to_collection,budget,homepage,imdb_id,original_language,popularity,poster_path,production_countries,revenue,runtime,spoken_languages,status,tagline,video,vote_average,vote_count"
   ]
  },
  {
   "cell_type": "code",
   "execution_count": 60,
   "metadata": {},
   "outputs": [
    {
     "ename": "KeyError",
     "evalue": "\"['Unnamed'] not found in axis\"",
     "output_type": "error",
     "traceback": [
      "\u001b[1;31m---------------------------------------------------------------------------\u001b[0m",
      "\u001b[1;31mKeyError\u001b[0m                                  Traceback (most recent call last)",
      "Cell \u001b[1;32mIn[60], line 1\u001b[0m\n\u001b[1;32m----> 1\u001b[0m df\u001b[38;5;241m=\u001b[39m \u001b[43mdf_standard\u001b[49m\u001b[38;5;241;43m.\u001b[39;49m\u001b[43mdrop\u001b[49m\u001b[43m(\u001b[49m\u001b[43mcolumns\u001b[49m\u001b[38;5;241;43m=\u001b[39;49m\u001b[43m[\u001b[49m\u001b[38;5;124;43m'\u001b[39;49m\u001b[38;5;124;43mUnnamed\u001b[39;49m\u001b[38;5;124;43m'\u001b[39;49m\u001b[43m,\u001b[49m\u001b[38;5;124;43m'\u001b[39;49m\u001b[38;5;124;43madult\u001b[39;49m\u001b[38;5;124;43m'\u001b[39;49m\u001b[43m,\u001b[49m\u001b[38;5;124;43m'\u001b[39;49m\u001b[38;5;124;43mbackdrop_path\u001b[39;49m\u001b[38;5;124;43m'\u001b[39;49m\u001b[43m,\u001b[49m\u001b[38;5;124;43m'\u001b[39;49m\u001b[38;5;124;43mbelongs_to_collection\u001b[39;49m\u001b[38;5;124;43m'\u001b[39;49m\u001b[43m,\u001b[49m\u001b[38;5;124;43m'\u001b[39;49m\u001b[38;5;124;43mbudget\u001b[39;49m\u001b[38;5;124;43m'\u001b[39;49m\u001b[43m,\u001b[49m\u001b[38;5;124;43m'\u001b[39;49m\u001b[38;5;124;43mhomepage\u001b[39;49m\u001b[38;5;124;43m'\u001b[39;49m\u001b[43m,\u001b[49m\u001b[38;5;124;43m'\u001b[39;49m\u001b[38;5;124;43mimdb_id\u001b[39;49m\u001b[38;5;124;43m'\u001b[39;49m\u001b[43m,\u001b[49m\u001b[38;5;124;43m'\u001b[39;49m\u001b[38;5;124;43moriginal_language\u001b[39;49m\u001b[38;5;124;43m'\u001b[39;49m\u001b[43m,\u001b[49m\u001b[38;5;124;43m'\u001b[39;49m\u001b[38;5;124;43mpopularity\u001b[39;49m\u001b[38;5;124;43m'\u001b[39;49m\u001b[43m,\u001b[49m\u001b[38;5;124;43m'\u001b[39;49m\u001b[38;5;124;43mposter_path\u001b[39;49m\u001b[38;5;124;43m'\u001b[39;49m\u001b[43m,\u001b[49m\u001b[38;5;124;43m'\u001b[39;49m\u001b[38;5;124;43mproduction_countries\u001b[39;49m\u001b[38;5;124;43m'\u001b[39;49m\u001b[43m,\u001b[49m\u001b[38;5;124;43m'\u001b[39;49m\u001b[38;5;124;43mrevenue\u001b[39;49m\u001b[38;5;124;43m'\u001b[39;49m\u001b[43m,\u001b[49m\u001b[38;5;124;43m'\u001b[39;49m\u001b[38;5;124;43mruntime\u001b[39;49m\u001b[38;5;124;43m'\u001b[39;49m\u001b[43m,\u001b[49m\u001b[38;5;124;43m'\u001b[39;49m\u001b[38;5;124;43mspoken_languages\u001b[39;49m\u001b[38;5;124;43m'\u001b[39;49m\u001b[43m,\u001b[49m\u001b[38;5;124;43m'\u001b[39;49m\u001b[38;5;124;43mstatus\u001b[39;49m\u001b[38;5;124;43m'\u001b[39;49m\u001b[43m,\u001b[49m\u001b[38;5;124;43m'\u001b[39;49m\u001b[38;5;124;43mtagline\u001b[39;49m\u001b[38;5;124;43m'\u001b[39;49m\u001b[43m,\u001b[49m\u001b[38;5;124;43m'\u001b[39;49m\u001b[38;5;124;43mvideo\u001b[39;49m\u001b[38;5;124;43m'\u001b[39;49m\u001b[43m,\u001b[49m\u001b[38;5;124;43m'\u001b[39;49m\u001b[38;5;124;43mvote_average\u001b[39;49m\u001b[38;5;124;43m'\u001b[39;49m\u001b[43m,\u001b[49m\u001b[38;5;124;43m'\u001b[39;49m\u001b[38;5;124;43mvote_count\u001b[39;49m\u001b[38;5;124;43m'\u001b[39;49m\u001b[43m]\u001b[49m\u001b[43m)\u001b[49m\n\u001b[0;32m      2\u001b[0m df\n",
      "File \u001b[1;32md:\\GitHub DESK\\Movies_Prediction\\movie_recommendation_system\\Lib\\site-packages\\pandas\\core\\frame.py:5581\u001b[0m, in \u001b[0;36mDataFrame.drop\u001b[1;34m(self, labels, axis, index, columns, level, inplace, errors)\u001b[0m\n\u001b[0;32m   5433\u001b[0m \u001b[38;5;28;01mdef\u001b[39;00m \u001b[38;5;21mdrop\u001b[39m(\n\u001b[0;32m   5434\u001b[0m     \u001b[38;5;28mself\u001b[39m,\n\u001b[0;32m   5435\u001b[0m     labels: IndexLabel \u001b[38;5;241m|\u001b[39m \u001b[38;5;28;01mNone\u001b[39;00m \u001b[38;5;241m=\u001b[39m \u001b[38;5;28;01mNone\u001b[39;00m,\n\u001b[1;32m   (...)\u001b[0m\n\u001b[0;32m   5442\u001b[0m     errors: IgnoreRaise \u001b[38;5;241m=\u001b[39m \u001b[38;5;124m\"\u001b[39m\u001b[38;5;124mraise\u001b[39m\u001b[38;5;124m\"\u001b[39m,\n\u001b[0;32m   5443\u001b[0m ) \u001b[38;5;241m-\u001b[39m\u001b[38;5;241m>\u001b[39m DataFrame \u001b[38;5;241m|\u001b[39m \u001b[38;5;28;01mNone\u001b[39;00m:\n\u001b[0;32m   5444\u001b[0m \u001b[38;5;250m    \u001b[39m\u001b[38;5;124;03m\"\"\"\u001b[39;00m\n\u001b[0;32m   5445\u001b[0m \u001b[38;5;124;03m    Drop specified labels from rows or columns.\u001b[39;00m\n\u001b[0;32m   5446\u001b[0m \n\u001b[1;32m   (...)\u001b[0m\n\u001b[0;32m   5579\u001b[0m \u001b[38;5;124;03m            weight  1.0     0.8\u001b[39;00m\n\u001b[0;32m   5580\u001b[0m \u001b[38;5;124;03m    \"\"\"\u001b[39;00m\n\u001b[1;32m-> 5581\u001b[0m     \u001b[38;5;28;01mreturn\u001b[39;00m \u001b[38;5;28;43msuper\u001b[39;49m\u001b[43m(\u001b[49m\u001b[43m)\u001b[49m\u001b[38;5;241;43m.\u001b[39;49m\u001b[43mdrop\u001b[49m\u001b[43m(\u001b[49m\n\u001b[0;32m   5582\u001b[0m \u001b[43m        \u001b[49m\u001b[43mlabels\u001b[49m\u001b[38;5;241;43m=\u001b[39;49m\u001b[43mlabels\u001b[49m\u001b[43m,\u001b[49m\n\u001b[0;32m   5583\u001b[0m \u001b[43m        \u001b[49m\u001b[43maxis\u001b[49m\u001b[38;5;241;43m=\u001b[39;49m\u001b[43maxis\u001b[49m\u001b[43m,\u001b[49m\n\u001b[0;32m   5584\u001b[0m \u001b[43m        \u001b[49m\u001b[43mindex\u001b[49m\u001b[38;5;241;43m=\u001b[39;49m\u001b[43mindex\u001b[49m\u001b[43m,\u001b[49m\n\u001b[0;32m   5585\u001b[0m \u001b[43m        \u001b[49m\u001b[43mcolumns\u001b[49m\u001b[38;5;241;43m=\u001b[39;49m\u001b[43mcolumns\u001b[49m\u001b[43m,\u001b[49m\n\u001b[0;32m   5586\u001b[0m \u001b[43m        \u001b[49m\u001b[43mlevel\u001b[49m\u001b[38;5;241;43m=\u001b[39;49m\u001b[43mlevel\u001b[49m\u001b[43m,\u001b[49m\n\u001b[0;32m   5587\u001b[0m \u001b[43m        \u001b[49m\u001b[43minplace\u001b[49m\u001b[38;5;241;43m=\u001b[39;49m\u001b[43minplace\u001b[49m\u001b[43m,\u001b[49m\n\u001b[0;32m   5588\u001b[0m \u001b[43m        \u001b[49m\u001b[43merrors\u001b[49m\u001b[38;5;241;43m=\u001b[39;49m\u001b[43merrors\u001b[49m\u001b[43m,\u001b[49m\n\u001b[0;32m   5589\u001b[0m \u001b[43m    \u001b[49m\u001b[43m)\u001b[49m\n",
      "File \u001b[1;32md:\\GitHub DESK\\Movies_Prediction\\movie_recommendation_system\\Lib\\site-packages\\pandas\\core\\generic.py:4788\u001b[0m, in \u001b[0;36mNDFrame.drop\u001b[1;34m(self, labels, axis, index, columns, level, inplace, errors)\u001b[0m\n\u001b[0;32m   4786\u001b[0m \u001b[38;5;28;01mfor\u001b[39;00m axis, labels \u001b[38;5;129;01min\u001b[39;00m axes\u001b[38;5;241m.\u001b[39mitems():\n\u001b[0;32m   4787\u001b[0m     \u001b[38;5;28;01mif\u001b[39;00m labels \u001b[38;5;129;01mis\u001b[39;00m \u001b[38;5;129;01mnot\u001b[39;00m \u001b[38;5;28;01mNone\u001b[39;00m:\n\u001b[1;32m-> 4788\u001b[0m         obj \u001b[38;5;241m=\u001b[39m \u001b[43mobj\u001b[49m\u001b[38;5;241;43m.\u001b[39;49m\u001b[43m_drop_axis\u001b[49m\u001b[43m(\u001b[49m\u001b[43mlabels\u001b[49m\u001b[43m,\u001b[49m\u001b[43m \u001b[49m\u001b[43maxis\u001b[49m\u001b[43m,\u001b[49m\u001b[43m \u001b[49m\u001b[43mlevel\u001b[49m\u001b[38;5;241;43m=\u001b[39;49m\u001b[43mlevel\u001b[49m\u001b[43m,\u001b[49m\u001b[43m \u001b[49m\u001b[43merrors\u001b[49m\u001b[38;5;241;43m=\u001b[39;49m\u001b[43merrors\u001b[49m\u001b[43m)\u001b[49m\n\u001b[0;32m   4790\u001b[0m \u001b[38;5;28;01mif\u001b[39;00m inplace:\n\u001b[0;32m   4791\u001b[0m     \u001b[38;5;28mself\u001b[39m\u001b[38;5;241m.\u001b[39m_update_inplace(obj)\n",
      "File \u001b[1;32md:\\GitHub DESK\\Movies_Prediction\\movie_recommendation_system\\Lib\\site-packages\\pandas\\core\\generic.py:4830\u001b[0m, in \u001b[0;36mNDFrame._drop_axis\u001b[1;34m(self, labels, axis, level, errors, only_slice)\u001b[0m\n\u001b[0;32m   4828\u001b[0m         new_axis \u001b[38;5;241m=\u001b[39m axis\u001b[38;5;241m.\u001b[39mdrop(labels, level\u001b[38;5;241m=\u001b[39mlevel, errors\u001b[38;5;241m=\u001b[39merrors)\n\u001b[0;32m   4829\u001b[0m     \u001b[38;5;28;01melse\u001b[39;00m:\n\u001b[1;32m-> 4830\u001b[0m         new_axis \u001b[38;5;241m=\u001b[39m \u001b[43maxis\u001b[49m\u001b[38;5;241;43m.\u001b[39;49m\u001b[43mdrop\u001b[49m\u001b[43m(\u001b[49m\u001b[43mlabels\u001b[49m\u001b[43m,\u001b[49m\u001b[43m \u001b[49m\u001b[43merrors\u001b[49m\u001b[38;5;241;43m=\u001b[39;49m\u001b[43merrors\u001b[49m\u001b[43m)\u001b[49m\n\u001b[0;32m   4831\u001b[0m     indexer \u001b[38;5;241m=\u001b[39m axis\u001b[38;5;241m.\u001b[39mget_indexer(new_axis)\n\u001b[0;32m   4833\u001b[0m \u001b[38;5;66;03m# Case for non-unique axis\u001b[39;00m\n\u001b[0;32m   4834\u001b[0m \u001b[38;5;28;01melse\u001b[39;00m:\n",
      "File \u001b[1;32md:\\GitHub DESK\\Movies_Prediction\\movie_recommendation_system\\Lib\\site-packages\\pandas\\core\\indexes\\base.py:7070\u001b[0m, in \u001b[0;36mIndex.drop\u001b[1;34m(self, labels, errors)\u001b[0m\n\u001b[0;32m   7068\u001b[0m \u001b[38;5;28;01mif\u001b[39;00m mask\u001b[38;5;241m.\u001b[39many():\n\u001b[0;32m   7069\u001b[0m     \u001b[38;5;28;01mif\u001b[39;00m errors \u001b[38;5;241m!=\u001b[39m \u001b[38;5;124m\"\u001b[39m\u001b[38;5;124mignore\u001b[39m\u001b[38;5;124m\"\u001b[39m:\n\u001b[1;32m-> 7070\u001b[0m         \u001b[38;5;28;01mraise\u001b[39;00m \u001b[38;5;167;01mKeyError\u001b[39;00m(\u001b[38;5;124mf\u001b[39m\u001b[38;5;124m\"\u001b[39m\u001b[38;5;132;01m{\u001b[39;00mlabels[mask]\u001b[38;5;241m.\u001b[39mtolist()\u001b[38;5;132;01m}\u001b[39;00m\u001b[38;5;124m not found in axis\u001b[39m\u001b[38;5;124m\"\u001b[39m)\n\u001b[0;32m   7071\u001b[0m     indexer \u001b[38;5;241m=\u001b[39m indexer[\u001b[38;5;241m~\u001b[39mmask]\n\u001b[0;32m   7072\u001b[0m \u001b[38;5;28;01mreturn\u001b[39;00m \u001b[38;5;28mself\u001b[39m\u001b[38;5;241m.\u001b[39mdelete(indexer)\n",
      "\u001b[1;31mKeyError\u001b[0m: \"['Unnamed'] not found in axis\""
     ]
    }
   ],
   "source": [
    "df= df_standard.drop(columns=['Unnamed: 0','adult','backdrop_path','belongs_to_collection','budget','homepage','imdb_id','original_language','popularity','poster_path','production_countries','revenue','runtime','spoken_languages','status','tagline','video','vote_average','vote_count'])\n",
    "df"
   ]
  },
  {
   "cell_type": "code",
   "execution_count": null,
   "metadata": {},
   "outputs": [
    {
     "data": {
      "text/html": [
       "<div>\n",
       "<style scoped>\n",
       "    .dataframe tbody tr th:only-of-type {\n",
       "        vertical-align: middle;\n",
       "    }\n",
       "\n",
       "    .dataframe tbody tr th {\n",
       "        vertical-align: top;\n",
       "    }\n",
       "\n",
       "    .dataframe thead th {\n",
       "        text-align: right;\n",
       "    }\n",
       "</style>\n",
       "<table border=\"1\" class=\"dataframe\">\n",
       "  <thead>\n",
       "    <tr style=\"text-align: right;\">\n",
       "      <th></th>\n",
       "      <th>genres</th>\n",
       "      <th>id</th>\n",
       "      <th>original_title</th>\n",
       "      <th>overview</th>\n",
       "      <th>production_companies</th>\n",
       "      <th>release_date</th>\n",
       "      <th>title</th>\n",
       "    </tr>\n",
       "  </thead>\n",
       "  <tbody>\n",
       "    <tr>\n",
       "      <th>0</th>\n",
       "      <td>[{'id': 28, 'name': 'Action'}, {'id': 35, 'nam...</td>\n",
       "      <td>533535</td>\n",
       "      <td>Deadpool &amp; Wolverine</td>\n",
       "      <td>A listless Wade Wilson toils away in civilian ...</td>\n",
       "      <td>[{'id': 420, 'logo_path': '/hUzeosd33nzE5MCNsZ...</td>\n",
       "      <td>2024-07-24</td>\n",
       "      <td>Deadpool &amp; Wolverine</td>\n",
       "    </tr>\n",
       "    <tr>\n",
       "      <th>1</th>\n",
       "      <td>[{'id': 28, 'name': 'Action'}, {'id': 80, 'nam...</td>\n",
       "      <td>573435</td>\n",
       "      <td>Bad Boys: Ride or Die</td>\n",
       "      <td>After their late former Captain is framed, Low...</td>\n",
       "      <td>[{'id': 122771, 'logo_path': '/bYRqVEAuaC1QWmt...</td>\n",
       "      <td>2024-06-05</td>\n",
       "      <td>Bad Boys: Ride or Die</td>\n",
       "    </tr>\n",
       "    <tr>\n",
       "      <th>2</th>\n",
       "      <td>[{'id': 16, 'name': 'Animation'}, {'id': 10751...</td>\n",
       "      <td>1022789</td>\n",
       "      <td>Inside Out 2</td>\n",
       "      <td>Teenager Riley's mind headquarters is undergoi...</td>\n",
       "      <td>[{'id': 2, 'logo_path': '/wdrCwmRnLFJhEoH8GSfy...</td>\n",
       "      <td>2024-06-11</td>\n",
       "      <td>Inside Out 2</td>\n",
       "    </tr>\n",
       "    <tr>\n",
       "      <th>3</th>\n",
       "      <td>[{'id': 16, 'name': 'Animation'}, {'id': 10751...</td>\n",
       "      <td>519182</td>\n",
       "      <td>Despicable Me 4</td>\n",
       "      <td>Gru and Lucy and their girls — Margo, Edith an...</td>\n",
       "      <td>[{'id': 6704, 'logo_path': '/fOG2oY4m1YuYTQh4b...</td>\n",
       "      <td>2024-06-20</td>\n",
       "      <td>Despicable Me 4</td>\n",
       "    </tr>\n",
       "    <tr>\n",
       "      <th>4</th>\n",
       "      <td>[{'id': 27, 'name': 'Horror'}, {'id': 878, 'na...</td>\n",
       "      <td>762441</td>\n",
       "      <td>A Quiet Place: Day One</td>\n",
       "      <td>As New York City is invaded by alien creatures...</td>\n",
       "      <td>[{'id': 4, 'logo_path': '/gz66EfNoYPqHTYI4q9UE...</td>\n",
       "      <td>2024-06-26</td>\n",
       "      <td>A Quiet Place: Day One</td>\n",
       "    </tr>\n",
       "    <tr>\n",
       "      <th>...</th>\n",
       "      <td>...</td>\n",
       "      <td>...</td>\n",
       "      <td>...</td>\n",
       "      <td>...</td>\n",
       "      <td>...</td>\n",
       "      <td>...</td>\n",
       "      <td>...</td>\n",
       "    </tr>\n",
       "    <tr>\n",
       "      <th>195</th>\n",
       "      <td>[{'id': 10752, 'name': 'War'}]</td>\n",
       "      <td>1136318</td>\n",
       "      <td>Battle Over Britain</td>\n",
       "      <td>A young pilot, fresh out of training, is calle...</td>\n",
       "      <td>[{'id': 95706, 'logo_path': '/6H2AkKh3Li9jvzfx...</td>\n",
       "      <td>2023-12-01</td>\n",
       "      <td>Battle Over Britain</td>\n",
       "    </tr>\n",
       "    <tr>\n",
       "      <th>196</th>\n",
       "      <td>[{'id': 18, 'name': 'Drama'}, {'id': 10749, 'n...</td>\n",
       "      <td>40978</td>\n",
       "      <td>Emmanuelle 4</td>\n",
       "      <td>In order to escape from her former lover Marc,...</td>\n",
       "      <td>[{'id': 876, 'logo_path': None, 'name': 'Sara ...</td>\n",
       "      <td>1984-02-15</td>\n",
       "      <td>Emmanuelle 4</td>\n",
       "    </tr>\n",
       "    <tr>\n",
       "      <th>197</th>\n",
       "      <td>[{'id': 878, 'name': 'Science Fiction'}, {'id'...</td>\n",
       "      <td>848326</td>\n",
       "      <td>Rebel Moon - Part One: A Child of Fire</td>\n",
       "      <td>When the ruthless forces of the Motherworld th...</td>\n",
       "      <td>[{'id': 114152, 'logo_path': '/xYfrnGFXxrEy5x5...</td>\n",
       "      <td>2023-12-15</td>\n",
       "      <td>Rebel Moon - Part One: A Child of Fire</td>\n",
       "    </tr>\n",
       "    <tr>\n",
       "      <th>198</th>\n",
       "      <td>[{'id': 53, 'name': 'Thriller'}, {'id': 80, 'n...</td>\n",
       "      <td>882059</td>\n",
       "      <td>Boy Kills World</td>\n",
       "      <td>When his family is murdered, a deaf-mute named...</td>\n",
       "      <td>[{'id': 829, 'logo_path': '/aXqwCvJSCDbTclkxAY...</td>\n",
       "      <td>2024-04-24</td>\n",
       "      <td>Boy Kills World</td>\n",
       "    </tr>\n",
       "    <tr>\n",
       "      <th>199</th>\n",
       "      <td>[{'id': 28, 'name': 'Action'}]</td>\n",
       "      <td>866398</td>\n",
       "      <td>The Beekeeper</td>\n",
       "      <td>One man's campaign for vengeance takes on nati...</td>\n",
       "      <td>[{'id': 14, 'logo_path': '/m6AHu84oZQxvq7n1rsv...</td>\n",
       "      <td>2024-01-08</td>\n",
       "      <td>The Beekeeper</td>\n",
       "    </tr>\n",
       "  </tbody>\n",
       "</table>\n",
       "<p>198 rows × 7 columns</p>\n",
       "</div>"
      ],
      "text/plain": [
       "                                                genres       id  \\\n",
       "0    [{'id': 28, 'name': 'Action'}, {'id': 35, 'nam...   533535   \n",
       "1    [{'id': 28, 'name': 'Action'}, {'id': 80, 'nam...   573435   \n",
       "2    [{'id': 16, 'name': 'Animation'}, {'id': 10751...  1022789   \n",
       "3    [{'id': 16, 'name': 'Animation'}, {'id': 10751...   519182   \n",
       "4    [{'id': 27, 'name': 'Horror'}, {'id': 878, 'na...   762441   \n",
       "..                                                 ...      ...   \n",
       "195                     [{'id': 10752, 'name': 'War'}]  1136318   \n",
       "196  [{'id': 18, 'name': 'Drama'}, {'id': 10749, 'n...    40978   \n",
       "197  [{'id': 878, 'name': 'Science Fiction'}, {'id'...   848326   \n",
       "198  [{'id': 53, 'name': 'Thriller'}, {'id': 80, 'n...   882059   \n",
       "199                     [{'id': 28, 'name': 'Action'}]   866398   \n",
       "\n",
       "                             original_title  \\\n",
       "0                      Deadpool & Wolverine   \n",
       "1                     Bad Boys: Ride or Die   \n",
       "2                              Inside Out 2   \n",
       "3                           Despicable Me 4   \n",
       "4                    A Quiet Place: Day One   \n",
       "..                                      ...   \n",
       "195                     Battle Over Britain   \n",
       "196                            Emmanuelle 4   \n",
       "197  Rebel Moon - Part One: A Child of Fire   \n",
       "198                         Boy Kills World   \n",
       "199                           The Beekeeper   \n",
       "\n",
       "                                              overview  \\\n",
       "0    A listless Wade Wilson toils away in civilian ...   \n",
       "1    After their late former Captain is framed, Low...   \n",
       "2    Teenager Riley's mind headquarters is undergoi...   \n",
       "3    Gru and Lucy and their girls — Margo, Edith an...   \n",
       "4    As New York City is invaded by alien creatures...   \n",
       "..                                                 ...   \n",
       "195  A young pilot, fresh out of training, is calle...   \n",
       "196  In order to escape from her former lover Marc,...   \n",
       "197  When the ruthless forces of the Motherworld th...   \n",
       "198  When his family is murdered, a deaf-mute named...   \n",
       "199  One man's campaign for vengeance takes on nati...   \n",
       "\n",
       "                                  production_companies release_date  \\\n",
       "0    [{'id': 420, 'logo_path': '/hUzeosd33nzE5MCNsZ...   2024-07-24   \n",
       "1    [{'id': 122771, 'logo_path': '/bYRqVEAuaC1QWmt...   2024-06-05   \n",
       "2    [{'id': 2, 'logo_path': '/wdrCwmRnLFJhEoH8GSfy...   2024-06-11   \n",
       "3    [{'id': 6704, 'logo_path': '/fOG2oY4m1YuYTQh4b...   2024-06-20   \n",
       "4    [{'id': 4, 'logo_path': '/gz66EfNoYPqHTYI4q9UE...   2024-06-26   \n",
       "..                                                 ...          ...   \n",
       "195  [{'id': 95706, 'logo_path': '/6H2AkKh3Li9jvzfx...   2023-12-01   \n",
       "196  [{'id': 876, 'logo_path': None, 'name': 'Sara ...   1984-02-15   \n",
       "197  [{'id': 114152, 'logo_path': '/xYfrnGFXxrEy5x5...   2023-12-15   \n",
       "198  [{'id': 829, 'logo_path': '/aXqwCvJSCDbTclkxAY...   2024-04-24   \n",
       "199  [{'id': 14, 'logo_path': '/m6AHu84oZQxvq7n1rsv...   2024-01-08   \n",
       "\n",
       "                                      title  \n",
       "0                      Deadpool & Wolverine  \n",
       "1                     Bad Boys: Ride or Die  \n",
       "2                              Inside Out 2  \n",
       "3                           Despicable Me 4  \n",
       "4                    A Quiet Place: Day One  \n",
       "..                                      ...  \n",
       "195                     Battle Over Britain  \n",
       "196                            Emmanuelle 4  \n",
       "197  Rebel Moon - Part One: A Child of Fire  \n",
       "198                         Boy Kills World  \n",
       "199                           The Beekeeper  \n",
       "\n",
       "[198 rows x 7 columns]"
      ]
     },
     "execution_count": 39,
     "metadata": {},
     "output_type": "execute_result"
    }
   ],
   "source": [
    "df.dropna()\n"
   ]
  },
  {
   "cell_type": "code",
   "execution_count": null,
   "metadata": {},
   "outputs": [
    {
     "data": {
      "text/plain": [
       "1"
      ]
     },
     "execution_count": 38,
     "metadata": {},
     "output_type": "execute_result"
    }
   ],
   "source": [
    "df.duplicated().sum()"
   ]
  },
  {
   "cell_type": "code",
   "execution_count": null,
   "metadata": {},
   "outputs": [],
   "source": []
  }
 ],
 "metadata": {
  "kernelspec": {
   "display_name": "movie_recommendation_system",
   "language": "python",
   "name": "python3"
  },
  "language_info": {
   "codemirror_mode": {
    "name": "ipython",
    "version": 3
   },
   "file_extension": ".py",
   "mimetype": "text/x-python",
   "name": "python",
   "nbconvert_exporter": "python",
   "pygments_lexer": "ipython3",
   "version": "3.12.4"
  }
 },
 "nbformat": 4,
 "nbformat_minor": 2
}
